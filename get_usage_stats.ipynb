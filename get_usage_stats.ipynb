{
 "cells": [
  {
   "cell_type": "code",
   "execution_count": 1,
   "metadata": {},
   "outputs": [],
   "source": [
    "# imports\n",
    "import pandas as pd\n",
    "from nba_api.stats.endpoints import *\n",
    "from tqdm import tqdm\n",
    "import json\n",
    "import time\n",
    "from datetime import datetime"
   ]
  },
  {
   "cell_type": "code",
   "execution_count": 2,
   "metadata": {},
   "outputs": [],
   "source": [
    "# constants\n",
    "cols = ['SEASON', 'PLAYER_ID', 'PLAYER_NAME', 'TEAM_ID', 'TEAM_ABBREVIATION', 'GP', 'MIN', 'TOUCHES', 'TIME_OF_POSS']\n"
   ]
  },
  {
   "cell_type": "code",
   "execution_count": 3,
   "metadata": {},
   "outputs": [],
   "source": [
    "def get_season_usage_stats(season = '23-24', columns = cols):\n",
    "    \"\"\"Gets some advanced player usage stats from a given season\"\"\"\n",
    "    \n",
    "    # call api\n",
    "    tracking = leaguedashptstats.LeagueDashPtStats(season=season, pt_measure_type='Possessions',season_type_all_star= 'Regular Season',\n",
    "                                    player_or_team = 'Player', per_mode_simple = 'Totals')\n",
    "    \n",
    "    # create dataframe\n",
    "    track = json.loads(tracking.get_json())\n",
    "    season_df = pd.DataFrame(track['resultSets'][0]['rowSet'], columns = track['resultSets'][0]['headers'])\n",
    "\n",
    "    # fix columns\n",
    "    season_df['SEASON'] = season\n",
    "    season_df = season_df[columns]\n",
    "\n",
    "    return season_df\n"
   ]
  },
  {
   "cell_type": "code",
   "execution_count": 6,
   "metadata": {},
   "outputs": [
    {
     "name": "stdout",
     "output_type": "stream",
     "text": [
      "Processed data for season: 2013-14\n",
      "Processed data for season: 2014-15\n",
      "Processed data for season: 2015-16\n",
      "Processed data for season: 2016-17\n",
      "Processed data for season: 2017-18\n",
      "Processed data for season: 2018-19\n",
      "Processed data for season: 2019-20\n",
      "Processed data for season: 2020-21\n",
      "Processed data for season: 2021-22\n",
      "Processed data for season: 2022-23\n",
      "Processed data for season: 2023-24\n",
      "Processed data for season: 2024-25\n"
     ]
    }
   ],
   "source": [
    "# get usage stats from all seasons since 2013-14\n",
    "for i in range (13, datetime.now().year%2000):\n",
    "\n",
    "    # get season string\n",
    "    season = f'20{i}-{i+1}'\n",
    "\n",
    "    # wait 1 second to avoid api overflow\n",
    "    time.sleep(1)\n",
    "\n",
    "    # get stat dataframe\n",
    "    usage_df = get_season_usage_stats(season=season, columns=cols)\n",
    "\n",
    "    # save usage stats\n",
    "    print(f\"Processed data for season: {season}\")\n",
    "    usage_df.to_csv(f'data/scale_data/usage_stats_{season.replace(\"-\",\"_\")}.csv')"
   ]
  }
 ],
 "metadata": {
  "kernelspec": {
   "display_name": "Python 3 (ipykernel)",
   "language": "python",
   "name": "python3"
  },
  "language_info": {
   "codemirror_mode": {
    "name": "ipython",
    "version": 3
   },
   "file_extension": ".py",
   "mimetype": "text/x-python",
   "name": "python",
   "nbconvert_exporter": "python",
   "pygments_lexer": "ipython3",
   "version": "3.8.12"
  }
 },
 "nbformat": 4,
 "nbformat_minor": 2
}
