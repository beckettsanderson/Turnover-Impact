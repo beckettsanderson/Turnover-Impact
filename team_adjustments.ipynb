{
 "cells": [
  {
   "cell_type": "code",
   "execution_count": 1,
   "metadata": {},
   "outputs": [],
   "source": [
    "# imports\n",
    "import pandas as pd\n",
    "from tqdm import tqdm\n",
    "from datetime import datetime"
   ]
  },
  {
   "cell_type": "code",
   "execution_count": 2,
   "metadata": {},
   "outputs": [],
   "source": [
    "# functions\n",
    "def fetch_data(year):\n",
    "    \"\"\"Fetch offensive and defensive data for given year\"\"\"\n",
    "    url_offensive = f\"https://stats.inpredictable.com/nba/ssnTeamPoss.php?season={year}\"\n",
    "    url_defensive = f\"https://stats.inpredictable.com/nba/ssnTeamPoss.php?season={year}&view=def\"\n",
    "    \n",
    "    df_offensive = pd.read_html(url_offensive)[0]\n",
    "    df_defensive = pd.read_html(url_defensive)[0]\n",
    "    \n",
    "    # Format column names\n",
    "    df_offensive.columns = [' '.join(col).strip() for col in df_offensive.columns.values]\n",
    "    df_defensive.columns = [' '.join(col).strip() for col in df_defensive.columns.values]\n",
    "    \n",
    "    return df_offensive, df_defensive\n",
    "\n",
    "def clean_percentage_columns(df):\n",
    "    \"\"\"Convert percentage columns to float values\"\"\"\n",
    "    df['After Def Rebound %'] = df['After Def Rebound %'].str.rstrip('%').astype('float') / 100\n",
    "    df['After Made Shot* %'] = df['After Made Shot* %'].str.rstrip('%').astype('float') / 100\n",
    "    return df\n",
    "\n",
    "def calculate_non_fastbreak_rating(df, rating_column_name):\n",
    "    \"\"\"Calculate non-fastbreak rating\"\"\"\n",
    "    df[rating_column_name] = df.apply(\n",
    "        lambda row: (\n",
    "            (row['After Def Rebound points'] * row['After Def Rebound %'] +\n",
    "            row['After Made Shot* points'] * row['After Made Shot* %']) /\n",
    "            (row['After Made Shot* %'] + row['After Def Rebound %'])\n",
    "        ) if pd.notnull(row['After Def Rebound points']) and pd.notnull(row['After Made Shot* points']) else None, \n",
    "        axis=1\n",
    "    )\n",
    "    return df\n",
    "\n",
    "def calculate_half_court_difference(df, col_name, total_points_col):\n",
    "    \"\"\"Calculate difference between half court and average possessions\"\"\"\n",
    "    df[col_name] = df.apply(\n",
    "        lambda row: (\n",
    "            row[total_points_col] - row['After Made Shot* points']\n",
    "        ),\n",
    "        axis=1\n",
    "    )\n",
    "    return df\n",
    "\n",
    "def process_year_data(year):\n",
    "    \"\"\"Process data for a specific year\"\"\"\n",
    "    # Fetch data\n",
    "    df_offensive, df_defensive = fetch_data(year)\n",
    "    \n",
    "    # Clean percentage columns\n",
    "    df_offensive = clean_percentage_columns(df_offensive)\n",
    "    df_defensive = clean_percentage_columns(df_defensive)\n",
    "    \n",
    "    # Calculate non-fastbreak ratings\n",
    "    df_offensive = calculate_non_fastbreak_rating(df_offensive, 'non_fb_o_rating')\n",
    "    df_defensive = calculate_non_fastbreak_rating(df_defensive, 'non_fb_d_rating')\n",
    "    \n",
    "    # Calculate half-court differences\n",
    "    df_offensive = calculate_half_court_difference(df_offensive, 'o_half_court_dff', 'Total points&nbsp ▼')\n",
    "    df_defensive = calculate_half_court_difference(df_defensive, 'd_half_court_dff', 'Total points')\n",
    "    \n",
    "    # Merge offensive and defensive data\n",
    "    combined = pd.merge(df_offensive, df_defensive, on='Unnamed: 1_level_0 Team', how='left')\n",
    "    combined['year'] = year\n",
    "    \n",
    "    # Create final dataframe for the year\n",
    "    new_df = pd.DataFrame(combined.loc[combined.index[:-2], [\n",
    "        'Unnamed: 1_level_0 Team', 'year', 'non_fb_o_rating', 'non_fb_d_rating', \n",
    "        'o_half_court_dff', 'd_half_court_dff'\n",
    "    ]])\n",
    "    new_df.rename(columns={'Unnamed: 1_level_0 Team': 'team'}, inplace=True)\n",
    "    \n",
    "    return new_df"
   ]
  },
  {
   "cell_type": "code",
   "execution_count": 10,
   "metadata": {},
   "outputs": [
    {
     "name": "stderr",
     "output_type": "stream",
     "text": [
      "  0%|          | 0/12 [00:00<?, ?it/s]"
     ]
    },
    {
     "name": "stdout",
     "output_type": "stream",
     "text": [
      "processing year: 2013\n"
     ]
    },
    {
     "name": "stderr",
     "output_type": "stream",
     "text": [
      "  8%|▊         | 1/12 [00:06<01:16,  6.94s/it]"
     ]
    },
    {
     "name": "stdout",
     "output_type": "stream",
     "text": [
      "processing year: 2014\n"
     ]
    },
    {
     "name": "stderr",
     "output_type": "stream",
     "text": [
      " 17%|█▋        | 2/12 [00:12<01:00,  6.02s/it]"
     ]
    },
    {
     "name": "stdout",
     "output_type": "stream",
     "text": [
      "processing year: 2015\n"
     ]
    },
    {
     "name": "stderr",
     "output_type": "stream",
     "text": [
      " 25%|██▌       | 3/12 [00:15<00:41,  4.64s/it]"
     ]
    },
    {
     "name": "stdout",
     "output_type": "stream",
     "text": [
      "processing year: 2016\n"
     ]
    },
    {
     "name": "stderr",
     "output_type": "stream",
     "text": [
      " 33%|███▎      | 4/12 [00:17<00:29,  3.74s/it]"
     ]
    },
    {
     "name": "stdout",
     "output_type": "stream",
     "text": [
      "processing year: 2017\n"
     ]
    },
    {
     "name": "stderr",
     "output_type": "stream",
     "text": [
      " 42%|████▏     | 5/12 [00:19<00:21,  3.06s/it]"
     ]
    },
    {
     "name": "stdout",
     "output_type": "stream",
     "text": [
      "processing year: 2018\n"
     ]
    },
    {
     "name": "stderr",
     "output_type": "stream",
     "text": [
      " 50%|█████     | 6/12 [00:22<00:17,  2.99s/it]"
     ]
    },
    {
     "name": "stdout",
     "output_type": "stream",
     "text": [
      "processing year: 2019\n"
     ]
    },
    {
     "name": "stderr",
     "output_type": "stream",
     "text": [
      " 58%|█████▊    | 7/12 [00:26<00:16,  3.29s/it]"
     ]
    },
    {
     "name": "stdout",
     "output_type": "stream",
     "text": [
      "processing year: 2020\n"
     ]
    },
    {
     "name": "stderr",
     "output_type": "stream",
     "text": [
      " 67%|██████▋   | 8/12 [00:30<00:14,  3.55s/it]"
     ]
    },
    {
     "name": "stdout",
     "output_type": "stream",
     "text": [
      "processing year: 2021\n"
     ]
    },
    {
     "name": "stderr",
     "output_type": "stream",
     "text": [
      " 75%|███████▌  | 9/12 [00:33<00:09,  3.30s/it]"
     ]
    },
    {
     "name": "stdout",
     "output_type": "stream",
     "text": [
      "processing year: 2022\n"
     ]
    },
    {
     "name": "stderr",
     "output_type": "stream",
     "text": [
      " 83%|████████▎ | 10/12 [00:35<00:05,  2.93s/it]"
     ]
    },
    {
     "name": "stdout",
     "output_type": "stream",
     "text": [
      "processing year: 2023\n"
     ]
    },
    {
     "name": "stderr",
     "output_type": "stream",
     "text": [
      " 92%|█████████▏| 11/12 [00:37<00:02,  2.81s/it]"
     ]
    },
    {
     "name": "stdout",
     "output_type": "stream",
     "text": [
      "processing year: 2024\n"
     ]
    },
    {
     "name": "stderr",
     "output_type": "stream",
     "text": [
      "100%|██████████| 12/12 [00:40<00:00,  3.41s/it]\n"
     ]
    }
   ],
   "source": [
    "# Process data for each year\n",
    "for year in tqdm(range(2013, datetime.now().year)):\n",
    "    # print(f'processing year: {year}')\n",
    "    year_data = process_year_data(year)\n",
    "    year_data.to_csv(f'data/team_adj/team_adj_20{year%2000}_{year%2000+1}.csv')"
   ]
  }
 ],
 "metadata": {
  "kernelspec": {
   "display_name": "turnover_env",
   "language": "python",
   "name": "python3"
  },
  "language_info": {
   "codemirror_mode": {
    "name": "ipython",
    "version": 3
   },
   "file_extension": ".py",
   "mimetype": "text/x-python",
   "name": "python",
   "nbconvert_exporter": "python",
   "pygments_lexer": "ipython3",
   "version": "3.10.16"
  }
 },
 "nbformat": 4,
 "nbformat_minor": 2
}
