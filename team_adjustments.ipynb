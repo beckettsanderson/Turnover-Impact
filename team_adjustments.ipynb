{
 "cells": [
  {
   "cell_type": "code",
   "execution_count": 16,
   "metadata": {},
   "outputs": [],
   "source": [
    "import pandas as pd\n",
    "from tqdm import tqdm"
   ]
  },
  {
   "cell_type": "code",
   "execution_count": 24,
   "metadata": {},
   "outputs": [
    {
     "name": "stderr",
     "output_type": "stream",
     "text": [
      "  0%|          | 0/29 [00:00<?, ?it/s]/var/folders/d4/c154mt9s11x5q965j91l06qw0000gn/T/ipykernel_24571/2818798407.py:44: FutureWarning: The behavior of DataFrame concatenation with empty or all-NA entries is deprecated. In a future version, this will no longer exclude empty or all-NA columns when determining the result dtypes. To retain the old behavior, exclude the relevant entries before the concat operation.\n",
      "  adj_df = pd.concat([adj_df, new_df], axis = 0)\n",
      "100%|██████████| 29/29 [01:42<00:00,  3.54s/it]\n"
     ]
    },
    {
     "data": {
      "text/html": [
       "<div>\n",
       "<style scoped>\n",
       "    .dataframe tbody tr th:only-of-type {\n",
       "        vertical-align: middle;\n",
       "    }\n",
       "\n",
       "    .dataframe tbody tr th {\n",
       "        vertical-align: top;\n",
       "    }\n",
       "\n",
       "    .dataframe thead th {\n",
       "        text-align: right;\n",
       "    }\n",
       "</style>\n",
       "<table border=\"1\" class=\"dataframe\">\n",
       "  <thead>\n",
       "    <tr style=\"text-align: right;\">\n",
       "      <th></th>\n",
       "      <th>team</th>\n",
       "      <th>year</th>\n",
       "      <th>non_fb_o_rating</th>\n",
       "      <th>non_fb_d_rating</th>\n",
       "    </tr>\n",
       "  </thead>\n",
       "  <tbody>\n",
       "    <tr>\n",
       "      <th>0</th>\n",
       "      <td>CHI</td>\n",
       "      <td>1996</td>\n",
       "      <td>1.104070</td>\n",
       "      <td>0.984713</td>\n",
       "    </tr>\n",
       "    <tr>\n",
       "      <th>1</th>\n",
       "      <td>UTA</td>\n",
       "      <td>1996</td>\n",
       "      <td>1.074000</td>\n",
       "      <td>1.000465</td>\n",
       "    </tr>\n",
       "    <tr>\n",
       "      <th>2</th>\n",
       "      <td>SEA</td>\n",
       "      <td>1996</td>\n",
       "      <td>1.063902</td>\n",
       "      <td>0.981163</td>\n",
       "    </tr>\n",
       "    <tr>\n",
       "      <th>3</th>\n",
       "      <td>CHH</td>\n",
       "      <td>1996</td>\n",
       "      <td>1.056092</td>\n",
       "      <td>1.042759</td>\n",
       "    </tr>\n",
       "    <tr>\n",
       "      <th>4</th>\n",
       "      <td>DET</td>\n",
       "      <td>1996</td>\n",
       "      <td>1.048140</td>\n",
       "      <td>1.003933</td>\n",
       "    </tr>\n",
       "  </tbody>\n",
       "</table>\n",
       "</div>"
      ],
      "text/plain": [
       "  team  year  non_fb_o_rating  non_fb_d_rating\n",
       "0  CHI  1996         1.104070         0.984713\n",
       "1  UTA  1996         1.074000         1.000465\n",
       "2  SEA  1996         1.063902         0.981163\n",
       "3  CHH  1996         1.056092         1.042759\n",
       "4  DET  1996         1.048140         1.003933"
      ]
     },
     "execution_count": 24,
     "metadata": {},
     "output_type": "execute_result"
    }
   ],
   "source": [
    "adj_df = pd.DataFrame(columns =['team', 'year', 'non_fb_o_rating', 'non_fb_d_rating'])\n",
    "for year in tqdm(range(1996, 2025)):\n",
    "\n",
    "    urlo = f\"https://stats.inpredictable.com/nba/ssnTeamPoss.php?season={year}\"\n",
    "    urld = f\"https://stats.inpredictable.com/nba/ssnTeamPoss.php?season={year}&view=def\"\n",
    "    df = pd.read_html(urlo)[0]\n",
    "    dfd = pd.read_html(urld)[0]\n",
    "    df.columns = [' '.join(col).strip() for col in df.columns.values]\n",
    "    dfd.columns = [' '.join(col).strip() for col in dfd.columns.values]\n",
    "\n",
    "\n",
    "    # Remove '%' and convert to numeric\n",
    "    df['After Def Rebound %'] = df['After Def Rebound %'].str.rstrip('%').astype('float') / 100\n",
    "    df['After Made Shot* %'] = df['After Made Shot* %'].str.rstrip('%').astype('float') / 100\n",
    "    # Remove '%' and convert to numeric\n",
    "    dfd['After Def Rebound %'] = dfd['After Def Rebound %'].str.rstrip('%').astype('float') / 100\n",
    "    dfd['After Made Shot* %'] = dfd['After Made Shot* %'].str.rstrip('%').astype('float') / 100\n",
    "\n",
    "    # Now apply the formula\n",
    "    df['non_fb_o_rating'] = df.apply(\n",
    "        lambda row: (\n",
    "            (row['After Def Rebound points'] * row['After Def Rebound %'] +\n",
    "            row['After Made Shot* points'] * row['After Made Shot* %']) /\n",
    "            (row['After Made Shot* %'] + row['After Def Rebound %'])\n",
    "        ) if pd.notnull(row['After Def Rebound points']) and pd.notnull(row['After Made Shot* points']) else None, \n",
    "        axis=1\n",
    "    )\n",
    "    # Now apply the formula\n",
    "    dfd['non_fb_d_rating'] = dfd.apply(\n",
    "        lambda row: (\n",
    "            (row['After Def Rebound points'] * row['After Def Rebound %'] +\n",
    "            row['After Made Shot* points'] * row['After Made Shot* %']) /\n",
    "            (row['After Made Shot* %'] + row['After Def Rebound %'])\n",
    "        ) if pd.notnull(row['After Def Rebound points']) and pd.notnull(row['After Made Shot* points']) else None, \n",
    "        axis=1\n",
    "    )\n",
    "\n",
    "    combined = pd.merge(df, dfd, on = 'Unnamed: 1_level_0 Team', how = 'left')\n",
    "\n",
    "    combined['year'] = year\n",
    "    new_df = pd.DataFrame(combined.loc[combined.index[:-2],['Unnamed: 1_level_0 Team', 'year', 'non_fb_o_rating', 'non_fb_d_rating']])\n",
    "    new_df.rename(columns = {'Unnamed: 1_level_0 Team':'team'}, inplace=True)\n",
    "\n",
    "    adj_df = pd.concat([adj_df, new_df], axis = 0)\n",
    "\n",
    "adj_df.head()    "
   ]
  },
  {
   "cell_type": "code",
   "execution_count": 27,
   "metadata": {},
   "outputs": [
    {
     "data": {
      "text/plain": [
       "(862, 4)"
      ]
     },
     "execution_count": 27,
     "metadata": {},
     "output_type": "execute_result"
    }
   ],
   "source": [
    "adj_df.shape"
   ]
  },
  {
   "cell_type": "code",
   "execution_count": 28,
   "metadata": {},
   "outputs": [],
   "source": [
    "adj_df.to_csv('team_ratings.csv')"
   ]
  },
  {
   "cell_type": "code",
   "execution_count": 41,
   "metadata": {},
   "outputs": [],
   "source": [
    "def get_relative_rating(df, o_team, d_team, year):\n",
    "\n",
    "    o_rate = df[(df['team']==o_team) &( df['year'] == year)]['non_fb_o_rating'].values[0]\n",
    "    d_rate = df[(df['team']==d_team) &( df['year'] == year)]['non_fb_d_rating'].values[0]\n",
    "\n",
    "    return (o_rate+d_rate)/2"
   ]
  },
  {
   "cell_type": "code",
   "execution_count": 42,
   "metadata": {},
   "outputs": [
    {
     "data": {
      "text/plain": [
       "1.1596666666666664"
      ]
     },
     "execution_count": 42,
     "metadata": {},
     "output_type": "execute_result"
    }
   ],
   "source": [
    "get_relative_rating(adj_df, 'BOS', 'PHI', 2024)"
   ]
  }
 ],
 "metadata": {
  "kernelspec": {
   "display_name": "base",
   "language": "python",
   "name": "python3"
  },
  "language_info": {
   "codemirror_mode": {
    "name": "ipython",
    "version": 3
   },
   "file_extension": ".py",
   "mimetype": "text/x-python",
   "name": "python",
   "nbconvert_exporter": "python",
   "pygments_lexer": "ipython3",
   "version": "3.12.7"
  }
 },
 "nbformat": 4,
 "nbformat_minor": 2
}
