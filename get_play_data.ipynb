{
 "cells": [
  {
   "cell_type": "code",
   "execution_count": null,
   "metadata": {},
   "outputs": [],
   "source": [
    "# imports\n",
    "from utils.utils import *\n",
    "import pandas as pd\n",
    "import time\n",
    "import os\n",
    "from tqdm import tqdm\n",
    "import requests"
   ]
  },
  {
   "cell_type": "code",
   "execution_count": 6,
   "metadata": {},
   "outputs": [],
   "source": [
    "# constants \n",
    "tov_cols = ['team', 'player_id', 'player', 'type', 'period', 'clock', 'gameId', 'actionNumber', 'next_pos_points', 'shot_clock', 'opp_team']\n",
    "\n",
    "\n",
    "# set year here\n",
    "year = '2014_15'"
   ]
  },
  {
   "cell_type": "code",
   "execution_count": 8,
   "metadata": {},
   "outputs": [
    {
     "name": "stderr",
     "output_type": "stream",
     "text": [
      "1230it [00:00, 1657241.86it/s]\n"
     ]
    }
   ],
   "source": [
    "def get_season_tov_df(year = '2024-25'):\n",
    "\n",
    "    # get dataframe of all games\n",
    "    season_games = get_game_df(year.replace('_', '-'))\n",
    "\n",
    "    # Load or initialize data\n",
    "    tov_save_path = f'tov_data_{year}.csv'\n",
    "    failed_save_path = f'failed_games_{year}.csv'\n",
    "\n",
    "    if os.path.exists(tov_save_path):\n",
    "        tov_df = pd.read_csv(tov_save_path)\n",
    "        processed_games = set(tov_df['gameId'].unique())\n",
    "    else:\n",
    "        tov_df = pd.DataFrame(columns=tov_cols)\n",
    "        processed_games = set()\n",
    "\n",
    "    if os.path.exists(failed_save_path):\n",
    "        failed_games = pd.read_csv(failed_save_path)['gameId'].tolist()\n",
    "    else:\n",
    "        failed_games = []\n",
    "\n",
    "    fails = 0\n",
    "    # Main loop\n",
    "    for row in tqdm(season_games.itertuples(index=False)):\n",
    "        game = row.GAME_ID\n",
    "        teams = row.TEAM_ABBREVIATION\n",
    "\n",
    "        if int(game) in processed_games:\n",
    "            continue  # Skip already processed games\n",
    "\n",
    "        time.sleep(1)\n",
    "\n",
    "        max_retries = 3\n",
    "        retries = 0\n",
    "\n",
    "        while retries < max_retries:\n",
    "            try:\n",
    "                play_by_play_df = get_play_df(str(game), timeout=2)\n",
    "                fails = 0\n",
    "                processed_df = tov_processor(play_by_play_df, teams)\n",
    "\n",
    "                tov_df = pd.concat([tov_df, processed_df], ignore_index=True)\n",
    "\n",
    "                # Save progress after each successful game\n",
    "                tov_df.to_csv(tov_save_path, index=False)\n",
    "\n",
    "                break\n",
    "            except (requests.exceptions.Timeout, requests.exceptions.RequestException) as e:\n",
    "                print(f\"Timeout or error for game {game}: {e}. Retrying...\")\n",
    "                time.sleep((retries + 5) * 2)\n",
    "                retries += 1\n",
    "        else:\n",
    "            print(f\"Failed to fetch data for game {game} after {max_retries} retries.\")\n",
    "            failed_games.append(game)\n",
    "            pd.DataFrame({'gameId': failed_games}).to_csv(failed_save_path, index=False)\n",
    "            fails += 1\n",
    "\n",
    "        if fails >= 3:\n",
    "            time.sleep(500)\n"
   ]
  },
  {
   "cell_type": "code",
   "execution_count": null,
   "metadata": {},
   "outputs": [],
   "source": [
    "# if several games in a row fail, stop execution and continue it after 1+ hours\n",
    "# progress is saved automatically\n",
    "df = get_season_tov_df(year = year)\n",
    "df.head()"
   ]
  }
 ],
 "metadata": {
  "kernelspec": {
   "display_name": "turnover_env",
   "language": "python",
   "name": "python3"
  },
  "language_info": {
   "codemirror_mode": {
    "name": "ipython",
    "version": 3
   },
   "file_extension": ".py",
   "mimetype": "text/x-python",
   "name": "python",
   "nbconvert_exporter": "python",
   "pygments_lexer": "ipython3",
   "version": "3.10.16"
  }
 },
 "nbformat": 4,
 "nbformat_minor": 2
}
