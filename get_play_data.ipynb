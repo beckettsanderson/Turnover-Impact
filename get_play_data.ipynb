{
 "cells": [
  {
   "cell_type": "code",
   "execution_count": 11,
   "metadata": {},
   "outputs": [],
   "source": [
    "from utils.utils import *"
   ]
  },
  {
   "cell_type": "code",
   "execution_count": 12,
   "metadata": {},
   "outputs": [
    {
     "data": {
      "text/html": [
       "<div>\n",
       "<style scoped>\n",
       "    .dataframe tbody tr th:only-of-type {\n",
       "        vertical-align: middle;\n",
       "    }\n",
       "\n",
       "    .dataframe tbody tr th {\n",
       "        vertical-align: top;\n",
       "    }\n",
       "\n",
       "    .dataframe thead th {\n",
       "        text-align: right;\n",
       "    }\n",
       "</style>\n",
       "<table border=\"1\" class=\"dataframe\">\n",
       "  <thead>\n",
       "    <tr style=\"text-align: right;\">\n",
       "      <th></th>\n",
       "      <th>GAME_ID</th>\n",
       "      <th>SEASON_ID</th>\n",
       "      <th>TEAM_ABBREVIATION</th>\n",
       "      <th>GAME_DATE</th>\n",
       "    </tr>\n",
       "  </thead>\n",
       "  <tbody>\n",
       "    <tr>\n",
       "      <th>0</th>\n",
       "      <td>0022400001</td>\n",
       "      <td>22024</td>\n",
       "      <td>[ATL, BOS]</td>\n",
       "      <td>2024-11-12</td>\n",
       "    </tr>\n",
       "    <tr>\n",
       "      <th>1</th>\n",
       "      <td>0022400002</td>\n",
       "      <td>22024</td>\n",
       "      <td>[DET, MIA]</td>\n",
       "      <td>2024-11-12</td>\n",
       "    </tr>\n",
       "    <tr>\n",
       "      <th>2</th>\n",
       "      <td>0022400003</td>\n",
       "      <td>22024</td>\n",
       "      <td>[ORL, CHA]</td>\n",
       "      <td>2024-11-12</td>\n",
       "    </tr>\n",
       "    <tr>\n",
       "      <th>3</th>\n",
       "      <td>0022400004</td>\n",
       "      <td>22024</td>\n",
       "      <td>[PHI, NYK]</td>\n",
       "      <td>2024-11-12</td>\n",
       "    </tr>\n",
       "    <tr>\n",
       "      <th>4</th>\n",
       "      <td>0022400005</td>\n",
       "      <td>22024</td>\n",
       "      <td>[MIL, TOR]</td>\n",
       "      <td>2024-11-12</td>\n",
       "    </tr>\n",
       "  </tbody>\n",
       "</table>\n",
       "</div>"
      ],
      "text/plain": [
       "      GAME_ID SEASON_ID TEAM_ABBREVIATION   GAME_DATE\n",
       "0  0022400001     22024        [ATL, BOS]  2024-11-12\n",
       "1  0022400002     22024        [DET, MIA]  2024-11-12\n",
       "2  0022400003     22024        [ORL, CHA]  2024-11-12\n",
       "3  0022400004     22024        [PHI, NYK]  2024-11-12\n",
       "4  0022400005     22024        [MIL, TOR]  2024-11-12"
      ]
     },
     "execution_count": 12,
     "metadata": {},
     "output_type": "execute_result"
    }
   ],
   "source": [
    "season_games = get_game_df()\n",
    "pd.options.display.max_columns = None\n",
    "\n",
    "season_games.head()"
   ]
  },
  {
   "cell_type": "code",
   "execution_count": 15,
   "metadata": {},
   "outputs": [
    {
     "name": "stderr",
     "output_type": "stream",
     "text": [
      "0it [00:00, ?it/s]"
     ]
    },
    {
     "name": "stdout",
     "output_type": "stream",
     "text": [
      "Timeout or error for game 0022400079: HTTPSConnectionPool(host='stats.nba.com', port=443): Read timed out. (read timeout=2). Retrying...\n",
      "Timeout or error for game 0022400079: HTTPSConnectionPool(host='stats.nba.com', port=443): Read timed out. (read timeout=2). Retrying...\n",
      "Timeout or error for game 0022400079: HTTPSConnectionPool(host='stats.nba.com', port=443): Read timed out. (read timeout=2). Retrying...\n"
     ]
    },
    {
     "name": "stderr",
     "output_type": "stream",
     "text": [
      "79it [00:42,  1.85it/s]"
     ]
    },
    {
     "name": "stdout",
     "output_type": "stream",
     "text": [
      "Failed to fetch data for game 0022400079 after 3 retries.\n",
      "Timeout or error for game 0022400080: HTTPSConnectionPool(host='stats.nba.com', port=443): Read timed out. (read timeout=2). Retrying...\n",
      "Timeout or error for game 0022400080: HTTPSConnectionPool(host='stats.nba.com', port=443): Read timed out. (read timeout=2). Retrying...\n",
      "Timeout or error for game 0022400080: HTTPSConnectionPool(host='stats.nba.com', port=443): Read timed out. (read timeout=2). Retrying...\n"
     ]
    },
    {
     "name": "stderr",
     "output_type": "stream",
     "text": [
      "80it [01:24,  1.28s/it]"
     ]
    },
    {
     "name": "stdout",
     "output_type": "stream",
     "text": [
      "Failed to fetch data for game 0022400080 after 3 retries.\n",
      "Timeout or error for game 0022400081: HTTPSConnectionPool(host='stats.nba.com', port=443): Read timed out. (read timeout=2). Retrying...\n",
      "Timeout or error for game 0022400081: HTTPSConnectionPool(host='stats.nba.com', port=443): Read timed out. (read timeout=2). Retrying...\n",
      "Timeout or error for game 0022400081: HTTPSConnectionPool(host='stats.nba.com', port=443): Read timed out. (read timeout=2). Retrying...\n",
      "Failed to fetch data for game 0022400081 after 3 retries.\n"
     ]
    },
    {
     "name": "stderr",
     "output_type": "stream",
     "text": [
      "81it [05:27,  7.25s/it]"
     ]
    },
    {
     "name": "stdout",
     "output_type": "stream",
     "text": [
      "Timeout or error for game 0022400082: HTTPSConnectionPool(host='stats.nba.com', port=443): Read timed out. (read timeout=2). Retrying...\n"
     ]
    },
    {
     "name": "stderr",
     "output_type": "stream",
     "text": [
      "224it [05:42, 32.20it/s]"
     ]
    },
    {
     "name": "stdout",
     "output_type": "stream",
     "text": [
      "Timeout or error for game 0022400235: HTTPSConnectionPool(host='stats.nba.com', port=443): Read timed out. (read timeout=2). Retrying...\n",
      "Timeout or error for game 0022400235: HTTPSConnectionPool(host='stats.nba.com', port=443): Read timed out. (read timeout=2). Retrying...\n"
     ]
    },
    {
     "name": "stderr",
     "output_type": "stream",
     "text": [
      "258it [06:19,  2.99it/s]"
     ]
    },
    {
     "name": "stdout",
     "output_type": "stream",
     "text": [
      "Timeout or error for game 0022400262: HTTPSConnectionPool(host='stats.nba.com', port=443): Read timed out. (read timeout=2). Retrying...\n"
     ]
    },
    {
     "name": "stderr",
     "output_type": "stream",
     "text": [
      "258it [06:31,  2.99it/s]"
     ]
    },
    {
     "name": "stdout",
     "output_type": "stream",
     "text": [
      "Timeout or error for game 0022400262: HTTPSConnectionPool(host='stats.nba.com', port=443): Read timed out. (read timeout=2). Retrying...\n",
      "Timeout or error for game 0022400262: HTTPSConnectionPool(host='stats.nba.com', port=443): Read timed out. (read timeout=2). Retrying...\n"
     ]
    },
    {
     "name": "stderr",
     "output_type": "stream",
     "text": [
      "262it [07:02,  1.38s/it]"
     ]
    },
    {
     "name": "stdout",
     "output_type": "stream",
     "text": [
      "Failed to fetch data for game 0022400262 after 3 retries.\n",
      "Timeout or error for game 0022400263: HTTPSConnectionPool(host='stats.nba.com', port=443): Read timed out. (read timeout=2). Retrying...\n",
      "Timeout or error for game 0022400263: HTTPSConnectionPool(host='stats.nba.com', port=443): Read timed out. (read timeout=2). Retrying...\n",
      "Timeout or error for game 0022400263: HTTPSConnectionPool(host='stats.nba.com', port=443): Read timed out. (read timeout=2). Retrying...\n"
     ]
    },
    {
     "name": "stderr",
     "output_type": "stream",
     "text": [
      "263it [07:44,  2.79s/it]"
     ]
    },
    {
     "name": "stdout",
     "output_type": "stream",
     "text": [
      "Failed to fetch data for game 0022400263 after 3 retries.\n",
      "Timeout or error for game 0022400264: HTTPSConnectionPool(host='stats.nba.com', port=443): Read timed out. (read timeout=2). Retrying...\n",
      "Timeout or error for game 0022400264: HTTPSConnectionPool(host='stats.nba.com', port=443): Read timed out. (read timeout=2). Retrying...\n",
      "Timeout or error for game 0022400264: HTTPSConnectionPool(host='stats.nba.com', port=443): Read timed out. (read timeout=2). Retrying...\n",
      "Failed to fetch data for game 0022400264 after 3 retries.\n"
     ]
    },
    {
     "name": "stderr",
     "output_type": "stream",
     "text": [
      "264it [11:46, 14.06s/it]"
     ]
    },
    {
     "name": "stdout",
     "output_type": "stream",
     "text": [
      "Timeout or error for game 0022400265: HTTPSConnectionPool(host='stats.nba.com', port=443): Read timed out. (read timeout=2). Retrying...\n",
      "Timeout or error for game 0022400265: HTTPSConnectionPool(host='stats.nba.com', port=443): Read timed out. (read timeout=2). Retrying...\n",
      "Timeout or error for game 0022400265: HTTPSConnectionPool(host='stats.nba.com', port=443): Read timed out. (read timeout=2). Retrying...\n",
      "Failed to fetch data for game 0022400265 after 3 retries.\n"
     ]
    },
    {
     "name": "stderr",
     "output_type": "stream",
     "text": [
      "285it [15:55,  3.92s/it]"
     ]
    },
    {
     "name": "stdout",
     "output_type": "stream",
     "text": [
      "Timeout or error for game 0022400286: HTTPSConnectionPool(host='stats.nba.com', port=443): Read timed out. (read timeout=2). Retrying...\n",
      "Timeout or error for game 0022400286: HTTPSConnectionPool(host='stats.nba.com', port=443): Read timed out. (read timeout=2). Retrying...\n",
      "Timeout or error for game 0022400286: HTTPSConnectionPool(host='stats.nba.com', port=443): Read timed out. (read timeout=2). Retrying...\n"
     ]
    },
    {
     "name": "stderr",
     "output_type": "stream",
     "text": [
      "286it [16:37, 10.38s/it]"
     ]
    },
    {
     "name": "stdout",
     "output_type": "stream",
     "text": [
      "Failed to fetch data for game 0022400286 after 3 retries.\n",
      "Timeout or error for game 0022400287: HTTPSConnectionPool(host='stats.nba.com', port=443): Read timed out. (read timeout=2). Retrying...\n",
      "Timeout or error for game 0022400287: HTTPSConnectionPool(host='stats.nba.com', port=443): Read timed out. (read timeout=2). Retrying...\n",
      "Timeout or error for game 0022400287: HTTPSConnectionPool(host='stats.nba.com', port=443): Read timed out. (read timeout=2). Retrying...\n"
     ]
    },
    {
     "name": "stderr",
     "output_type": "stream",
     "text": [
      "287it [17:19, 16.59s/it]"
     ]
    },
    {
     "name": "stdout",
     "output_type": "stream",
     "text": [
      "Failed to fetch data for game 0022400287 after 3 retries.\n"
     ]
    },
    {
     "name": "stderr",
     "output_type": "stream",
     "text": [
      "303it [17:24,  2.92it/s]"
     ]
    },
    {
     "name": "stdout",
     "output_type": "stream",
     "text": [
      "Timeout or error for game 0022400304: HTTPSConnectionPool(host='stats.nba.com', port=443): Read timed out. (read timeout=2). Retrying...\n",
      "Timeout or error for game 0022400304: HTTPSConnectionPool(host='stats.nba.com', port=443): Read timed out. (read timeout=2). Retrying...\n",
      "Timeout or error for game 0022400304: HTTPSConnectionPool(host='stats.nba.com', port=443): Read timed out. (read timeout=2). Retrying...\n"
     ]
    },
    {
     "name": "stderr",
     "output_type": "stream",
     "text": [
      "304it [18:06, 13.00s/it]"
     ]
    },
    {
     "name": "stdout",
     "output_type": "stream",
     "text": [
      "Failed to fetch data for game 0022400304 after 3 retries.\n",
      "Timeout or error for game 0022400305: HTTPSConnectionPool(host='stats.nba.com', port=443): Read timed out. (read timeout=2). Retrying...\n",
      "Timeout or error for game 0022400305: HTTPSConnectionPool(host='stats.nba.com', port=443): Read timed out. (read timeout=2). Retrying...\n",
      "Timeout or error for game 0022400305: HTTPSConnectionPool(host='stats.nba.com', port=443): Read timed out. (read timeout=2). Retrying...\n"
     ]
    },
    {
     "name": "stderr",
     "output_type": "stream",
     "text": [
      "305it [18:49, 21.78s/it]"
     ]
    },
    {
     "name": "stdout",
     "output_type": "stream",
     "text": [
      "Failed to fetch data for game 0022400305 after 3 retries.\n",
      "Timeout or error for game 0022400306: HTTPSConnectionPool(host='stats.nba.com', port=443): Read timed out. (read timeout=2). Retrying...\n",
      "Timeout or error for game 0022400306: HTTPSConnectionPool(host='stats.nba.com', port=443): Read timed out. (read timeout=2). Retrying...\n",
      "Timeout or error for game 0022400306: HTTPSConnectionPool(host='stats.nba.com', port=443): Read timed out. (read timeout=2). Retrying...\n",
      "Failed to fetch data for game 0022400306 after 3 retries.\n"
     ]
    },
    {
     "name": "stderr",
     "output_type": "stream",
     "text": [
      "306it [22:51, 87.93s/it]"
     ]
    },
    {
     "name": "stdout",
     "output_type": "stream",
     "text": [
      "Timeout or error for game 0022400307: HTTPSConnectionPool(host='stats.nba.com', port=443): Read timed out. (read timeout=2). Retrying...\n",
      "Timeout or error for game 0022400307: HTTPSConnectionPool(host='stats.nba.com', port=443): Read timed out. (read timeout=2). Retrying...\n",
      "Timeout or error for game 0022400307: HTTPSConnectionPool(host='stats.nba.com', port=443): Read timed out. (read timeout=2). Retrying...\n",
      "Failed to fetch data for game 0022400307 after 3 retries.\n"
     ]
    },
    {
     "name": "stderr",
     "output_type": "stream",
     "text": [
      "334it [27:00,  4.50it/s] "
     ]
    },
    {
     "name": "stdout",
     "output_type": "stream",
     "text": [
      "Timeout or error for game 0022400335: HTTPSConnectionPool(host='stats.nba.com', port=443): Read timed out. (read timeout=2). Retrying...\n",
      "Timeout or error for game 0022400335: HTTPSConnectionPool(host='stats.nba.com', port=443): Read timed out. (read timeout=2). Retrying...\n"
     ]
    },
    {
     "name": "stderr",
     "output_type": "stream",
     "text": [
      "368it [27:39,  3.84it/s]"
     ]
    },
    {
     "name": "stdout",
     "output_type": "stream",
     "text": [
      "Timeout or error for game 0022400369: HTTPSConnectionPool(host='stats.nba.com', port=443): Read timed out. (read timeout=2). Retrying...\n",
      "Timeout or error for game 0022400369: HTTPSConnectionPool(host='stats.nba.com', port=443): Read timed out. (read timeout=2). Retrying...\n",
      "Timeout or error for game 0022400369: HTTPSConnectionPool(host='stats.nba.com', port=443): Read timed out. (read timeout=2). Retrying...\n"
     ]
    },
    {
     "name": "stderr",
     "output_type": "stream",
     "text": [
      "369it [28:21, 12.89s/it]"
     ]
    },
    {
     "name": "stdout",
     "output_type": "stream",
     "text": [
      "Failed to fetch data for game 0022400369 after 3 retries.\n",
      "Timeout or error for game 0022400370: HTTPSConnectionPool(host='stats.nba.com', port=443): Read timed out. (read timeout=2). Retrying...\n",
      "Timeout or error for game 0022400370: HTTPSConnectionPool(host='stats.nba.com', port=443): Read timed out. (read timeout=2). Retrying...\n",
      "Timeout or error for game 0022400370: HTTPSConnectionPool(host='stats.nba.com', port=443): Read timed out. (read timeout=2). Retrying...\n"
     ]
    },
    {
     "name": "stderr",
     "output_type": "stream",
     "text": [
      "370it [29:03, 21.74s/it]"
     ]
    },
    {
     "name": "stdout",
     "output_type": "stream",
     "text": [
      "Failed to fetch data for game 0022400370 after 3 retries.\n",
      "Timeout or error for game 0022400371: HTTPSConnectionPool(host='stats.nba.com', port=443): Read timed out. (read timeout=2). Retrying...\n",
      "Timeout or error for game 0022400371: HTTPSConnectionPool(host='stats.nba.com', port=443): Read timed out. (read timeout=2). Retrying...\n",
      "Timeout or error for game 0022400371: HTTPSConnectionPool(host='stats.nba.com', port=443): Read timed out. (read timeout=2). Retrying...\n",
      "Failed to fetch data for game 0022400371 after 3 retries.\n"
     ]
    },
    {
     "name": "stderr",
     "output_type": "stream",
     "text": [
      "371it [33:06, 88.01s/it]"
     ]
    },
    {
     "name": "stdout",
     "output_type": "stream",
     "text": [
      "Timeout or error for game 0022400372: HTTPSConnectionPool(host='stats.nba.com', port=443): Read timed out. (read timeout=2). Retrying...\n",
      "Timeout or error for game 0022400372: HTTPSConnectionPool(host='stats.nba.com', port=443): Read timed out. (read timeout=2). Retrying...\n",
      "Timeout or error for game 0022400372: HTTPSConnectionPool(host='stats.nba.com', port=443): Read timed out. (read timeout=2). Retrying...\n",
      "Failed to fetch data for game 0022400372 after 3 retries.\n"
     ]
    },
    {
     "name": "stderr",
     "output_type": "stream",
     "text": [
      "372it [37:08, 134.29s/it]"
     ]
    },
    {
     "name": "stdout",
     "output_type": "stream",
     "text": [
      "Timeout or error for game 0022400373: HTTPSConnectionPool(host='stats.nba.com', port=443): Read timed out. (read timeout=2). Retrying...\n",
      "Timeout or error for game 0022400373: HTTPSConnectionPool(host='stats.nba.com', port=443): Read timed out. (read timeout=2). Retrying...\n"
     ]
    },
    {
     "name": "stderr",
     "output_type": "stream",
     "text": [
      "403it [37:45,  3.67it/s] "
     ]
    },
    {
     "name": "stdout",
     "output_type": "stream",
     "text": [
      "Timeout or error for game 0022400404: HTTPSConnectionPool(host='stats.nba.com', port=443): Read timed out. (read timeout=2). Retrying...\n"
     ]
    },
    {
     "name": "stderr",
     "output_type": "stream",
     "text": [
      "407it [37:58,  1.48s/it]"
     ]
    },
    {
     "name": "stdout",
     "output_type": "stream",
     "text": [
      "Timeout or error for game 0022400408: HTTPSConnectionPool(host='stats.nba.com', port=443): Read timed out. (read timeout=2). Retrying...\n"
     ]
    },
    {
     "name": "stderr",
     "output_type": "stream",
     "text": [
      "422it [38:15,  2.59it/s]"
     ]
    },
    {
     "name": "stdout",
     "output_type": "stream",
     "text": [
      "Timeout or error for game 0022400423: HTTPSConnectionPool(host='stats.nba.com', port=443): Read timed out. (read timeout=2). Retrying...\n",
      "Timeout or error for game 0022400423: HTTPSConnectionPool(host='stats.nba.com', port=443): Read timed out. (read timeout=2). Retrying...\n",
      "Timeout or error for game 0022400423: HTTPSConnectionPool(host='stats.nba.com', port=443): Read timed out. (read timeout=2). Retrying...\n"
     ]
    },
    {
     "name": "stderr",
     "output_type": "stream",
     "text": [
      "423it [38:57, 12.96s/it]"
     ]
    },
    {
     "name": "stdout",
     "output_type": "stream",
     "text": [
      "Failed to fetch data for game 0022400423 after 3 retries.\n",
      "Timeout or error for game 0022400424: HTTPSConnectionPool(host='stats.nba.com', port=443): Read timed out. (read timeout=2). Retrying...\n",
      "Timeout or error for game 0022400424: HTTPSConnectionPool(host='stats.nba.com', port=443): Read timed out. (read timeout=2). Retrying...\n",
      "Timeout or error for game 0022400424: HTTPSConnectionPool(host='stats.nba.com', port=443): Read timed out. (read timeout=2). Retrying...\n"
     ]
    },
    {
     "name": "stderr",
     "output_type": "stream",
     "text": [
      "424it [39:40, 21.84s/it]"
     ]
    },
    {
     "name": "stdout",
     "output_type": "stream",
     "text": [
      "Failed to fetch data for game 0022400424 after 3 retries.\n",
      "Timeout or error for game 0022400425: HTTPSConnectionPool(host='stats.nba.com', port=443): Read timed out. (read timeout=2). Retrying...\n",
      "Timeout or error for game 0022400425: HTTPSConnectionPool(host='stats.nba.com', port=443): Read timed out. (read timeout=2). Retrying...\n",
      "Timeout or error for game 0022400425: HTTPSConnectionPool(host='stats.nba.com', port=443): Read timed out. (read timeout=2). Retrying...\n",
      "Failed to fetch data for game 0022400425 after 3 retries.\n"
     ]
    },
    {
     "name": "stderr",
     "output_type": "stream",
     "text": [
      "425it [43:42, 88.04s/it]"
     ]
    },
    {
     "name": "stdout",
     "output_type": "stream",
     "text": [
      "Timeout or error for game 0022400426: HTTPSConnectionPool(host='stats.nba.com', port=443): Read timed out. (read timeout=2). Retrying...\n",
      "Timeout or error for game 0022400426: HTTPSConnectionPool(host='stats.nba.com', port=443): Read timed out. (read timeout=2). Retrying...\n",
      "Timeout or error for game 0022400426: HTTPSConnectionPool(host='stats.nba.com', port=443): Read timed out. (read timeout=2). Retrying...\n",
      "Failed to fetch data for game 0022400426 after 3 retries.\n"
     ]
    },
    {
     "name": "stderr",
     "output_type": "stream",
     "text": [
      "426it [47:45, 134.41s/it]"
     ]
    },
    {
     "name": "stdout",
     "output_type": "stream",
     "text": [
      "Timeout or error for game 0022400427: HTTPSConnectionPool(host='stats.nba.com', port=443): Read timed out. (read timeout=2). Retrying...\n",
      "Timeout or error for game 0022400427: HTTPSConnectionPool(host='stats.nba.com', port=443): Read timed out. (read timeout=2). Retrying...\n"
     ]
    },
    {
     "name": "stderr",
     "output_type": "stream",
     "text": [
      "438it [48:14,  2.25s/it] "
     ]
    },
    {
     "name": "stdout",
     "output_type": "stream",
     "text": [
      "Timeout or error for game 0022400439: HTTPSConnectionPool(host='stats.nba.com', port=443): Read timed out. (read timeout=2). Retrying...\n"
     ]
    },
    {
     "name": "stderr",
     "output_type": "stream",
     "text": [
      "463it [48:34,  2.17it/s]"
     ]
    },
    {
     "name": "stdout",
     "output_type": "stream",
     "text": [
      "Timeout or error for game 0022400464: HTTPSConnectionPool(host='stats.nba.com', port=443): Read timed out. (read timeout=2). Retrying...\n"
     ]
    },
    {
     "name": "stderr",
     "output_type": "stream",
     "text": [
      "476it [48:52,  1.87it/s]"
     ]
    },
    {
     "name": "stdout",
     "output_type": "stream",
     "text": [
      "Timeout or error for game 0022400477: HTTPSConnectionPool(host='stats.nba.com', port=443): Read timed out. (read timeout=2). Retrying...\n",
      "Timeout or error for game 0022400477: HTTPSConnectionPool(host='stats.nba.com', port=443): Read timed out. (read timeout=2). Retrying...\n",
      "Timeout or error for game 0022400477: HTTPSConnectionPool(host='stats.nba.com', port=443): Read timed out. (read timeout=2). Retrying...\n"
     ]
    },
    {
     "name": "stderr",
     "output_type": "stream",
     "text": [
      "477it [49:34, 13.13s/it]"
     ]
    },
    {
     "name": "stdout",
     "output_type": "stream",
     "text": [
      "Failed to fetch data for game 0022400477 after 3 retries.\n",
      "Timeout or error for game 0022400478: HTTPSConnectionPool(host='stats.nba.com', port=443): Read timed out. (read timeout=2). Retrying...\n",
      "Timeout or error for game 0022400478: HTTPSConnectionPool(host='stats.nba.com', port=443): Read timed out. (read timeout=2). Retrying...\n"
     ]
    },
    {
     "name": "stderr",
     "output_type": "stream",
     "text": [
      "496it [50:08,  2.12it/s]"
     ]
    },
    {
     "name": "stdout",
     "output_type": "stream",
     "text": [
      "Timeout or error for game 0022400497: HTTPSConnectionPool(host='stats.nba.com', port=443): Read timed out. (read timeout=2). Retrying...\n",
      "Timeout or error for game 0022400497: HTTPSConnectionPool(host='stats.nba.com', port=443): Read timed out. (read timeout=2). Retrying...\n",
      "Timeout or error for game 0022400497: HTTPSConnectionPool(host='stats.nba.com', port=443): Read timed out. (read timeout=2). Retrying...\n"
     ]
    },
    {
     "name": "stderr",
     "output_type": "stream",
     "text": [
      "497it [50:50, 12.99s/it]"
     ]
    },
    {
     "name": "stdout",
     "output_type": "stream",
     "text": [
      "Failed to fetch data for game 0022400497 after 3 retries.\n",
      "Timeout or error for game 0022400498: HTTPSConnectionPool(host='stats.nba.com', port=443): Read timed out. (read timeout=2). Retrying...\n"
     ]
    },
    {
     "name": "stderr",
     "output_type": "stream",
     "text": [
      "524it [51:12,  2.78it/s]"
     ]
    },
    {
     "name": "stdout",
     "output_type": "stream",
     "text": [
      "Timeout or error for game 0022400525: HTTPSConnectionPool(host='stats.nba.com', port=443): Read timed out. (read timeout=2). Retrying...\n",
      "Timeout or error for game 0022400525: HTTPSConnectionPool(host='stats.nba.com', port=443): Read timed out. (read timeout=2). Retrying...\n",
      "Timeout or error for game 0022400525: HTTPSConnectionPool(host='stats.nba.com', port=443): Read timed out. (read timeout=2). Retrying...\n"
     ]
    },
    {
     "name": "stderr",
     "output_type": "stream",
     "text": [
      "525it [51:54, 12.91s/it]"
     ]
    },
    {
     "name": "stdout",
     "output_type": "stream",
     "text": [
      "Failed to fetch data for game 0022400525 after 3 retries.\n",
      "Timeout or error for game 0022400526: HTTPSConnectionPool(host='stats.nba.com', port=443): Read timed out. (read timeout=2). Retrying...\n",
      "Timeout or error for game 0022400526: HTTPSConnectionPool(host='stats.nba.com', port=443): Read timed out. (read timeout=2). Retrying...\n",
      "Timeout or error for game 0022400526: HTTPSConnectionPool(host='stats.nba.com', port=443): Read timed out. (read timeout=2). Retrying...\n"
     ]
    },
    {
     "name": "stderr",
     "output_type": "stream",
     "text": [
      "526it [52:37, 21.79s/it]"
     ]
    },
    {
     "name": "stdout",
     "output_type": "stream",
     "text": [
      "Failed to fetch data for game 0022400526 after 3 retries.\n",
      "Timeout or error for game 0022400527: HTTPSConnectionPool(host='stats.nba.com', port=443): Read timed out. (read timeout=2). Retrying...\n",
      "Timeout or error for game 0022400527: HTTPSConnectionPool(host='stats.nba.com', port=443): Read timed out. (read timeout=2). Retrying...\n",
      "Timeout or error for game 0022400527: HTTPSConnectionPool(host='stats.nba.com', port=443): Read timed out. (read timeout=2). Retrying...\n",
      "Failed to fetch data for game 0022400527 after 3 retries.\n"
     ]
    },
    {
     "name": "stderr",
     "output_type": "stream",
     "text": [
      "527it [56:39, 88.02s/it]"
     ]
    },
    {
     "name": "stdout",
     "output_type": "stream",
     "text": [
      "Timeout or error for game 0022400528: HTTPSConnectionPool(host='stats.nba.com', port=443): Read timed out. (read timeout=2). Retrying...\n",
      "Timeout or error for game 0022400528: HTTPSConnectionPool(host='stats.nba.com', port=443): Read timed out. (read timeout=2). Retrying...\n",
      "Timeout or error for game 0022400528: HTTPSConnectionPool(host='stats.nba.com', port=443): Read timed out. (read timeout=2). Retrying...\n",
      "Failed to fetch data for game 0022400528 after 3 retries.\n"
     ]
    },
    {
     "name": "stderr",
     "output_type": "stream",
     "text": [
      "528it [1:00:42, 134.35s/it]"
     ]
    },
    {
     "name": "stdout",
     "output_type": "stream",
     "text": [
      "Timeout or error for game 0022400529: HTTPSConnectionPool(host='stats.nba.com', port=443): Read timed out. (read timeout=2). Retrying...\n"
     ]
    },
    {
     "name": "stderr",
     "output_type": "stream",
     "text": [
      "545it [1:01:00,  1.68it/s] "
     ]
    },
    {
     "name": "stdout",
     "output_type": "stream",
     "text": [
      "Timeout or error for game 0022400548: HTTPSConnectionPool(host='stats.nba.com', port=443): Read timed out. (read timeout=2). Retrying...\n"
     ]
    },
    {
     "name": "stderr",
     "output_type": "stream",
     "text": [
      "568it [1:01:21,  1.96it/s]"
     ]
    },
    {
     "name": "stdout",
     "output_type": "stream",
     "text": [
      "Timeout or error for game 0022400571: HTTPSConnectionPool(host='stats.nba.com', port=443): Read timed out. (read timeout=2). Retrying...\n"
     ]
    },
    {
     "name": "stderr",
     "output_type": "stream",
     "text": [
      "576it [1:01:36,  1.42it/s]"
     ]
    },
    {
     "name": "stdout",
     "output_type": "stream",
     "text": [
      "Timeout or error for game 0022400579: HTTPSConnectionPool(host='stats.nba.com', port=443): Read timed out. (read timeout=2). Retrying...\n"
     ]
    },
    {
     "name": "stderr",
     "output_type": "stream",
     "text": [
      "609it [1:02:01,  4.32it/s]"
     ]
    },
    {
     "name": "stdout",
     "output_type": "stream",
     "text": [
      "Timeout or error for game 0022400612: HTTPSConnectionPool(host='stats.nba.com', port=443): Read timed out. (read timeout=2). Retrying...\n",
      "Timeout or error for game 0022400612: HTTPSConnectionPool(host='stats.nba.com', port=443): Read timed out. (read timeout=2). Retrying...\n",
      "Timeout or error for game 0022400612: HTTPSConnectionPool(host='stats.nba.com', port=443): Read timed out. (read timeout=2). Retrying...\n"
     ]
    },
    {
     "name": "stderr",
     "output_type": "stream",
     "text": [
      "610it [1:02:44, 12.81s/it]"
     ]
    },
    {
     "name": "stdout",
     "output_type": "stream",
     "text": [
      "Failed to fetch data for game 0022400612 after 3 retries.\n"
     ]
    },
    {
     "name": "stderr",
     "output_type": "stream",
     "text": [
      "674it [1:03:08,  3.53it/s]"
     ]
    },
    {
     "name": "stdout",
     "output_type": "stream",
     "text": [
      "Timeout or error for game 0022400679: HTTPSConnectionPool(host='stats.nba.com', port=443): Read timed out. (read timeout=2). Retrying...\n",
      "Timeout or error for game 0022400679: HTTPSConnectionPool(host='stats.nba.com', port=443): Read timed out. (read timeout=2). Retrying...\n",
      "Timeout or error for game 0022400679: HTTPSConnectionPool(host='stats.nba.com', port=443): Read timed out. (read timeout=2). Retrying...\n"
     ]
    },
    {
     "name": "stderr",
     "output_type": "stream",
     "text": [
      "675it [1:03:50, 12.96s/it]"
     ]
    },
    {
     "name": "stdout",
     "output_type": "stream",
     "text": [
      "Failed to fetch data for game 0022400679 after 3 retries.\n",
      "Timeout or error for game 0022400680: HTTPSConnectionPool(host='stats.nba.com', port=443): Read timed out. (read timeout=2). Retrying...\n",
      "Timeout or error for game 0022400680: HTTPSConnectionPool(host='stats.nba.com', port=443): Read timed out. (read timeout=2). Retrying...\n",
      "Timeout or error for game 0022400680: HTTPSConnectionPool(host='stats.nba.com', port=443): Read timed out. (read timeout=2). Retrying...\n"
     ]
    },
    {
     "name": "stderr",
     "output_type": "stream",
     "text": [
      "676it [1:04:32, 21.76s/it]"
     ]
    },
    {
     "name": "stdout",
     "output_type": "stream",
     "text": [
      "Failed to fetch data for game 0022400680 after 3 retries.\n",
      "Timeout or error for game 0022400681: HTTPSConnectionPool(host='stats.nba.com', port=443): Read timed out. (read timeout=2). Retrying...\n",
      "Timeout or error for game 0022400681: HTTPSConnectionPool(host='stats.nba.com', port=443): Read timed out. (read timeout=2). Retrying...\n",
      "Timeout or error for game 0022400681: HTTPSConnectionPool(host='stats.nba.com', port=443): Read timed out. (read timeout=2). Retrying...\n",
      "Failed to fetch data for game 0022400681 after 3 retries.\n"
     ]
    },
    {
     "name": "stderr",
     "output_type": "stream",
     "text": [
      "677it [1:08:35, 87.91s/it]"
     ]
    },
    {
     "name": "stdout",
     "output_type": "stream",
     "text": [
      "Timeout or error for game 0022400682: HTTPSConnectionPool(host='stats.nba.com', port=443): Read timed out. (read timeout=2). Retrying...\n",
      "Timeout or error for game 0022400682: HTTPSConnectionPool(host='stats.nba.com', port=443): Read timed out. (read timeout=2). Retrying...\n",
      "Timeout or error for game 0022400682: HTTPSConnectionPool(host='stats.nba.com', port=443): Read timed out. (read timeout=2). Retrying...\n",
      "Failed to fetch data for game 0022400682 after 3 retries.\n"
     ]
    },
    {
     "name": "stderr",
     "output_type": "stream",
     "text": [
      "693it [1:12:40,  1.30it/s] "
     ]
    },
    {
     "name": "stdout",
     "output_type": "stream",
     "text": [
      "Timeout or error for game 0022400698: HTTPSConnectionPool(host='stats.nba.com', port=443): Read timed out. (read timeout=2). Retrying...\n"
     ]
    },
    {
     "name": "stderr",
     "output_type": "stream",
     "text": [
      "708it [1:12:55,  4.63it/s]"
     ]
    },
    {
     "name": "stdout",
     "output_type": "stream",
     "text": [
      "Timeout or error for game 0022400713: HTTPSConnectionPool(host='stats.nba.com', port=443): Read timed out. (read timeout=2). Retrying...\n",
      "Timeout or error for game 0022400713: HTTPSConnectionPool(host='stats.nba.com', port=443): Read timed out. (read timeout=2). Retrying...\n",
      "Timeout or error for game 0022400713: HTTPSConnectionPool(host='stats.nba.com', port=443): Read timed out. (read timeout=2). Retrying...\n"
     ]
    },
    {
     "name": "stderr",
     "output_type": "stream",
     "text": [
      "709it [1:13:37, 12.80s/it]"
     ]
    },
    {
     "name": "stdout",
     "output_type": "stream",
     "text": [
      "Failed to fetch data for game 0022400713 after 3 retries.\n",
      "Timeout or error for game 0022400714: HTTPSConnectionPool(host='stats.nba.com', port=443): Read timed out. (read timeout=2). Retrying...\n",
      "Timeout or error for game 0022400714: HTTPSConnectionPool(host='stats.nba.com', port=443): Read timed out. (read timeout=2). Retrying...\n",
      "Timeout or error for game 0022400714: HTTPSConnectionPool(host='stats.nba.com', port=443): Read timed out. (read timeout=2). Retrying...\n"
     ]
    },
    {
     "name": "stderr",
     "output_type": "stream",
     "text": [
      "710it [1:14:20, 21.72s/it]"
     ]
    },
    {
     "name": "stdout",
     "output_type": "stream",
     "text": [
      "Failed to fetch data for game 0022400714 after 3 retries.\n",
      "Timeout or error for game 0022400715: HTTPSConnectionPool(host='stats.nba.com', port=443): Read timed out. (read timeout=2). Retrying...\n",
      "Timeout or error for game 0022400715: HTTPSConnectionPool(host='stats.nba.com', port=443): Read timed out. (read timeout=2). Retrying...\n",
      "Timeout or error for game 0022400715: HTTPSConnectionPool(host='stats.nba.com', port=443): Read timed out. (read timeout=2). Retrying...\n",
      "Failed to fetch data for game 0022400715 after 3 retries.\n"
     ]
    },
    {
     "name": "stderr",
     "output_type": "stream",
     "text": [
      "711it [1:18:22, 87.94s/it]"
     ]
    },
    {
     "name": "stdout",
     "output_type": "stream",
     "text": [
      "Timeout or error for game 0022400716: HTTPSConnectionPool(host='stats.nba.com', port=443): Read timed out. (read timeout=2). Retrying...\n",
      "Timeout or error for game 0022400716: HTTPSConnectionPool(host='stats.nba.com', port=443): Read timed out. (read timeout=2). Retrying...\n",
      "Timeout or error for game 0022400716: HTTPSConnectionPool(host='stats.nba.com', port=443): Read timed out. (read timeout=2). Retrying...\n",
      "Failed to fetch data for game 0022400716 after 3 retries.\n"
     ]
    },
    {
     "name": "stderr",
     "output_type": "stream",
     "text": [
      "712it [1:22:25, 134.34s/it]"
     ]
    },
    {
     "name": "stdout",
     "output_type": "stream",
     "text": [
      "Timeout or error for game 0022400717: HTTPSConnectionPool(host='stats.nba.com', port=443): Read timed out. (read timeout=2). Retrying...\n",
      "Timeout or error for game 0022400717: HTTPSConnectionPool(host='stats.nba.com', port=443): Read timed out. (read timeout=2). Retrying...\n"
     ]
    },
    {
     "name": "stderr",
     "output_type": "stream",
     "text": [
      "741it [1:22:58,  6.18it/s] "
     ]
    },
    {
     "name": "stdout",
     "output_type": "stream",
     "text": [
      "Timeout or error for game 0022400746: HTTPSConnectionPool(host='stats.nba.com', port=443): Read timed out. (read timeout=2). Retrying...\n"
     ]
    },
    {
     "name": "stderr",
     "output_type": "stream",
     "text": [
      "756it [1:23:14,  4.54it/s]"
     ]
    },
    {
     "name": "stdout",
     "output_type": "stream",
     "text": [
      "Timeout or error for game 0022400761: HTTPSConnectionPool(host='stats.nba.com', port=443): Read timed out. (read timeout=2). Retrying...\n",
      "Timeout or error for game 0022400761: HTTPSConnectionPool(host='stats.nba.com', port=443): Read timed out. (read timeout=2). Retrying...\n",
      "Timeout or error for game 0022400761: HTTPSConnectionPool(host='stats.nba.com', port=443): Read timed out. (read timeout=2). Retrying...\n"
     ]
    },
    {
     "name": "stderr",
     "output_type": "stream",
     "text": [
      "757it [1:23:56, 12.81s/it]"
     ]
    },
    {
     "name": "stdout",
     "output_type": "stream",
     "text": [
      "Failed to fetch data for game 0022400761 after 3 retries.\n",
      "Timeout or error for game 0022400762: HTTPSConnectionPool(host='stats.nba.com', port=443): Read timed out. (read timeout=2). Retrying...\n",
      "Timeout or error for game 0022400762: HTTPSConnectionPool(host='stats.nba.com', port=443): Read timed out. (read timeout=2). Retrying...\n",
      "Timeout or error for game 0022400762: HTTPSConnectionPool(host='stats.nba.com', port=443): Read timed out. (read timeout=2). Retrying...\n"
     ]
    },
    {
     "name": "stderr",
     "output_type": "stream",
     "text": [
      "758it [1:24:39, 21.67s/it]"
     ]
    },
    {
     "name": "stdout",
     "output_type": "stream",
     "text": [
      "Failed to fetch data for game 0022400762 after 3 retries.\n",
      "Timeout or error for game 0022400763: HTTPSConnectionPool(host='stats.nba.com', port=443): Read timed out. (read timeout=2). Retrying...\n",
      "Timeout or error for game 0022400763: HTTPSConnectionPool(host='stats.nba.com', port=443): Read timed out. (read timeout=2). Retrying...\n",
      "Timeout or error for game 0022400763: HTTPSConnectionPool(host='stats.nba.com', port=443): Read timed out. (read timeout=2). Retrying...\n",
      "Failed to fetch data for game 0022400763 after 3 retries.\n"
     ]
    },
    {
     "name": "stderr",
     "output_type": "stream",
     "text": [
      "776it [1:28:46,  1.75it/s]"
     ]
    },
    {
     "name": "stdout",
     "output_type": "stream",
     "text": [
      "Timeout or error for game 0022400781: HTTPSConnectionPool(host='stats.nba.com', port=443): Read timed out. (read timeout=2). Retrying...\n"
     ]
    },
    {
     "name": "stderr",
     "output_type": "stream",
     "text": [
      "797it [1:29:04,  5.50it/s]"
     ]
    },
    {
     "name": "stdout",
     "output_type": "stream",
     "text": [
      "Timeout or error for game 0022400802: HTTPSConnectionPool(host='stats.nba.com', port=443): Read timed out. (read timeout=2). Retrying...\n",
      "Timeout or error for game 0022400802: HTTPSConnectionPool(host='stats.nba.com', port=443): Read timed out. (read timeout=2). Retrying...\n",
      "Timeout or error for game 0022400802: HTTPSConnectionPool(host='stats.nba.com', port=443): Read timed out. (read timeout=2). Retrying...\n"
     ]
    },
    {
     "name": "stderr",
     "output_type": "stream",
     "text": [
      "798it [1:29:46, 12.80s/it]"
     ]
    },
    {
     "name": "stdout",
     "output_type": "stream",
     "text": [
      "Failed to fetch data for game 0022400802 after 3 retries.\n",
      "Timeout or error for game 0022400803: HTTPSConnectionPool(host='stats.nba.com', port=443): Read timed out. (read timeout=2). Retrying...\n",
      "Timeout or error for game 0022400803: HTTPSConnectionPool(host='stats.nba.com', port=443): Read timed out. (read timeout=2). Retrying...\n",
      "Timeout or error for game 0022400803: HTTPSConnectionPool(host='stats.nba.com', port=443): Read timed out. (read timeout=2). Retrying...\n"
     ]
    },
    {
     "name": "stderr",
     "output_type": "stream",
     "text": [
      "799it [1:30:29, 21.77s/it]"
     ]
    },
    {
     "name": "stdout",
     "output_type": "stream",
     "text": [
      "Failed to fetch data for game 0022400803 after 3 retries.\n",
      "Timeout or error for game 0022400804: HTTPSConnectionPool(host='stats.nba.com', port=443): Read timed out. (read timeout=2). Retrying...\n",
      "Timeout or error for game 0022400804: HTTPSConnectionPool(host='stats.nba.com', port=443): Read timed out. (read timeout=2). Retrying...\n",
      "Timeout or error for game 0022400804: HTTPSConnectionPool(host='stats.nba.com', port=443): Read timed out. (read timeout=2). Retrying...\n",
      "Failed to fetch data for game 0022400804 after 3 retries.\n"
     ]
    },
    {
     "name": "stderr",
     "output_type": "stream",
     "text": [
      "800it [1:34:31, 87.98s/it]"
     ]
    },
    {
     "name": "stdout",
     "output_type": "stream",
     "text": [
      "Timeout or error for game 0022400805: HTTPSConnectionPool(host='stats.nba.com', port=443): Read timed out. (read timeout=2). Retrying...\n",
      "Timeout or error for game 0022400805: HTTPSConnectionPool(host='stats.nba.com', port=443): Read timed out. (read timeout=2). Retrying...\n",
      "Timeout or error for game 0022400805: HTTPSConnectionPool(host='stats.nba.com', port=443): Read timed out. (read timeout=2). Retrying...\n",
      "Failed to fetch data for game 0022400805 after 3 retries.\n"
     ]
    }
   ],
   "source": [
    "import pandas as pd\n",
    "import time\n",
    "import os\n",
    "from tqdm import tqdm\n",
    "import requests\n",
    "\n",
    "tov_cols = ['team', 'player_id', 'player', 'type', 'period', 'clock', 'gameId', 'actionNumber', 'next_pos_points', 'shot_clock', 'opp_team']\n",
    "\n",
    "# Load or initialize data\n",
    "tov_save_path = 'tov_data.csv'\n",
    "failed_save_path = 'failed_games.csv'\n",
    "\n",
    "if os.path.exists(tov_save_path):\n",
    "    tov_df = pd.read_csv(tov_save_path)\n",
    "    processed_games = set(tov_df['gameId'].unique())\n",
    "else:\n",
    "    tov_df = pd.DataFrame(columns=tov_cols)\n",
    "    processed_games = set()\n",
    "\n",
    "if os.path.exists(failed_save_path):\n",
    "    failed_games = pd.read_csv(failed_save_path)['gameId'].tolist()\n",
    "else:\n",
    "    failed_games = []\n",
    "\n",
    "fails = 0\n",
    "# Main loop\n",
    "for row in tqdm(season_games.itertuples(index=False)):\n",
    "    game = row.GAME_ID\n",
    "    teams = row.TEAM_ABBREVIATION\n",
    "\n",
    "    if int(game) in processed_games:\n",
    "        continue  # Skip already processed games\n",
    "\n",
    "    max_retries = 3\n",
    "    retries = 0\n",
    "\n",
    "    while retries < max_retries:\n",
    "        try:\n",
    "            play_by_play_df = get_play_df(str(game), timeout=2)\n",
    "            fails = 0\n",
    "            processed_df = tov_processor(play_by_play_df, teams)\n",
    "\n",
    "            tov_df = pd.concat([tov_df, processed_df], ignore_index=True)\n",
    "\n",
    "\n",
    "            # Save progress after each successful game\n",
    "            tov_df.to_csv(tov_save_path, index=False)\n",
    "\n",
    "            break\n",
    "        except (requests.exceptions.Timeout, requests.exceptions.RequestException) as e:\n",
    "            print(f\"Timeout or error for game {game}: {e}. Retrying...\")\n",
    "            time.sleep((retries + 5) * 2)\n",
    "            retries += 1\n",
    "    else:\n",
    "        print(f\"Failed to fetch data for game {game} after {max_retries} retries.\")\n",
    "        failed_games.append(game)\n",
    "        pd.DataFrame({'gameId': failed_games}).to_csv(failed_save_path, index=False)\n",
    "        fails += 1\n",
    "\n",
    "    if fails >= 3:\n",
    "        time.sleep(200)\n"
   ]
  },
  {
   "cell_type": "code",
   "execution_count": 16,
   "metadata": {},
   "outputs": [
    {
     "name": "stdout",
     "output_type": "stream",
     "text": [
      "{22400001, 22400002, 22400003, 22400004, 22400005, 22400006, 22400007, 22400008, 22400009, 22400010, 22400011, 22400012, 22400013, 22400014, 22400015, 22400016, 22400017, 22400018, 22400019, 22400020, 22400021, 22400022, 22400023, 22400024, 22400025, 22400026, 22400027, 22400028, 22400029, 22400030, 22400031, 22400032, 22400033, 22400034, 22400035, 22400036, 22400037, 22400038, 22400039, 22400040, 22400041, 22400042, 22400043, 22400044, 22400045, 22400046, 22400047, 22400048, 22400049, 22400050, 22400051, 22400052, 22400053, 22400054, 22400055, 22400056, 22400057, 22400058, 22400059, 22400060, 22400061, 22400062, 22400063, 22400064, 22400065, 22400066, 22400067, 22400068, 22400069, 22400070, 22400071, 22400072, 22400073, 22400074, 22400075, 22400076, 22400077, 22400078, 22400093, 22400094, 22400095, 22400096, 22400097, 22400098, 22400099, 22400100, 22400101, 22400102, 22400103, 22400104, 22400105, 22400106, 22400107, 22400108, 22400109, 22400110, 22400111, 22400112, 22400113, 22400114, 22400115, 22400116, 22400117, 22400118, 22400119, 22400120, 22400121, 22400122, 22400123, 22400124, 22400125, 22400126, 22400127, 22400128, 22400129, 22400130, 22400131, 22400132, 22400133, 22400134, 22400135, 22400136, 22400138, 22400139, 22400140, 22400141, 22400142, 22400143, 22400144, 22400145, 22400146, 22400147, 22400148, 22400149, 22400150, 22400151, 22400152, 22400153, 22400154, 22400155, 22400156, 22400157, 22400158, 22400159, 22400160, 22400161, 22400162, 22400163, 22400164, 22400165, 22400166, 22400167, 22400168, 22400169, 22400170, 22400171, 22400172, 22400173, 22400174, 22400175, 22400176, 22400177, 22400178, 22400180, 22400181, 22400182, 22400183, 22400184, 22400185, 22400186, 22400187, 22400188, 22400189, 22400190, 22400191, 22400192, 22400193, 22400194, 22400195, 22400196, 22400197, 22400198, 22400199, 22400200, 22400201, 22400202, 22400203, 22400204, 22400205, 22400206, 22400207, 22400208, 22400209, 22400210, 22400211, 22400212, 22400213, 22400214, 22400215, 22400216, 22400217, 22400218, 22400219, 22400220, 22400221, 22400222, 22400223}\n"
     ]
    }
   ],
   "source": [
    "print(processed_games)"
   ]
  },
  {
   "cell_type": "code",
   "execution_count": 4,
   "metadata": {},
   "outputs": [
    {
     "data": {
      "text/html": [
       "<div>\n",
       "<style scoped>\n",
       "    .dataframe tbody tr th:only-of-type {\n",
       "        vertical-align: middle;\n",
       "    }\n",
       "\n",
       "    .dataframe tbody tr th {\n",
       "        vertical-align: top;\n",
       "    }\n",
       "\n",
       "    .dataframe thead th {\n",
       "        text-align: right;\n",
       "    }\n",
       "</style>\n",
       "<table border=\"1\" class=\"dataframe\">\n",
       "  <thead>\n",
       "    <tr style=\"text-align: right;\">\n",
       "      <th></th>\n",
       "      <th>team</th>\n",
       "      <th>player_id</th>\n",
       "      <th>player</th>\n",
       "      <th>type</th>\n",
       "      <th>period</th>\n",
       "      <th>clock</th>\n",
       "      <th>gameId</th>\n",
       "      <th>actionNumber</th>\n",
       "      <th>next_pos_points</th>\n",
       "      <th>shot_clock</th>\n",
       "      <th>opp_team</th>\n",
       "    </tr>\n",
       "  </thead>\n",
       "  <tbody>\n",
       "    <tr>\n",
       "      <th>583</th>\n",
       "      <td>SAC</td>\n",
       "      <td>1627734</td>\n",
       "      <td>Sabonis</td>\n",
       "      <td>Out of Bounds Lost Ball Turnover</td>\n",
       "      <td>1</td>\n",
       "      <td>484.0</td>\n",
       "      <td>0022400020</td>\n",
       "      <td>39</td>\n",
       "      <td>4</td>\n",
       "      <td>14.0</td>\n",
       "      <td>MIN</td>\n",
       "    </tr>\n",
       "    <tr>\n",
       "      <th>572</th>\n",
       "      <td>MEM</td>\n",
       "      <td>1631246</td>\n",
       "      <td>Williams Jr.</td>\n",
       "      <td>Lost Ball</td>\n",
       "      <td>3</td>\n",
       "      <td>218.0</td>\n",
       "      <td>0022400019</td>\n",
       "      <td>536</td>\n",
       "      <td>3</td>\n",
       "      <td>14.0</td>\n",
       "      <td>GSW</td>\n",
       "    </tr>\n",
       "    <tr>\n",
       "      <th>421</th>\n",
       "      <td>CHI</td>\n",
       "      <td>1630245</td>\n",
       "      <td>Dosunmu</td>\n",
       "      <td>Bad Pass</td>\n",
       "      <td>4</td>\n",
       "      <td>130.0</td>\n",
       "      <td>0022400013</td>\n",
       "      <td>670</td>\n",
       "      <td>3</td>\n",
       "      <td>20.0</td>\n",
       "      <td>CLE</td>\n",
       "    </tr>\n",
       "    <tr>\n",
       "      <th>840</th>\n",
       "      <td>WAS</td>\n",
       "      <td>1630557</td>\n",
       "      <td>Kispert</td>\n",
       "      <td>Out of Bounds - Bad Pass Turnover</td>\n",
       "      <td>1</td>\n",
       "      <td>176.0</td>\n",
       "      <td>0022400028</td>\n",
       "      <td>114</td>\n",
       "      <td>3</td>\n",
       "      <td>12.0</td>\n",
       "      <td>BOS</td>\n",
       "    </tr>\n",
       "    <tr>\n",
       "      <th>412</th>\n",
       "      <td>CHI</td>\n",
       "      <td>1631207</td>\n",
       "      <td>Terry</td>\n",
       "      <td>Lost Ball</td>\n",
       "      <td>3</td>\n",
       "      <td>298.0</td>\n",
       "      <td>0022400013</td>\n",
       "      <td>443</td>\n",
       "      <td>3</td>\n",
       "      <td>20.0</td>\n",
       "      <td>CLE</td>\n",
       "    </tr>\n",
       "    <tr>\n",
       "      <th>415</th>\n",
       "      <td>CHI</td>\n",
       "      <td>1631207</td>\n",
       "      <td>Terry</td>\n",
       "      <td>Traveling</td>\n",
       "      <td>3</td>\n",
       "      <td>176.0</td>\n",
       "      <td>0022400013</td>\n",
       "      <td>476</td>\n",
       "      <td>3</td>\n",
       "      <td>21.0</td>\n",
       "      <td>CLE</td>\n",
       "    </tr>\n",
       "    <tr>\n",
       "      <th>919</th>\n",
       "      <td>CHI</td>\n",
       "      <td>1630581</td>\n",
       "      <td>Giddey</td>\n",
       "      <td>Bad Pass</td>\n",
       "      <td>3</td>\n",
       "      <td>365.0</td>\n",
       "      <td>0022400030</td>\n",
       "      <td>416</td>\n",
       "      <td>3</td>\n",
       "      <td>7.0</td>\n",
       "      <td>ATL</td>\n",
       "    </tr>\n",
       "    <tr>\n",
       "      <th>527</th>\n",
       "      <td>PHX</td>\n",
       "      <td>1629006</td>\n",
       "      <td>Okogie</td>\n",
       "      <td>Bad Pass</td>\n",
       "      <td>2</td>\n",
       "      <td>366.0</td>\n",
       "      <td>0022400018</td>\n",
       "      <td>263</td>\n",
       "      <td>3</td>\n",
       "      <td>8.0</td>\n",
       "      <td>OKC</td>\n",
       "    </tr>\n",
       "    <tr>\n",
       "      <th>135</th>\n",
       "      <td>TOR</td>\n",
       "      <td>1629628</td>\n",
       "      <td>Barrett</td>\n",
       "      <td>Lost Ball</td>\n",
       "      <td>1</td>\n",
       "      <td>406.0</td>\n",
       "      <td>0022400005</td>\n",
       "      <td>70</td>\n",
       "      <td>3</td>\n",
       "      <td>17.0</td>\n",
       "      <td>MIL</td>\n",
       "    </tr>\n",
       "    <tr>\n",
       "      <th>240</th>\n",
       "      <td>POR</td>\n",
       "      <td>1641739</td>\n",
       "      <td>Camara</td>\n",
       "      <td>Lost Ball</td>\n",
       "      <td>2</td>\n",
       "      <td>62.0</td>\n",
       "      <td>0022400008</td>\n",
       "      <td>301</td>\n",
       "      <td>3</td>\n",
       "      <td>7.0</td>\n",
       "      <td>MIN</td>\n",
       "    </tr>\n",
       "  </tbody>\n",
       "</table>\n",
       "</div>"
      ],
      "text/plain": [
       "    team player_id        player                               type period  \\\n",
       "583  SAC   1627734       Sabonis   Out of Bounds Lost Ball Turnover      1   \n",
       "572  MEM   1631246  Williams Jr.                          Lost Ball      3   \n",
       "421  CHI   1630245       Dosunmu                           Bad Pass      4   \n",
       "840  WAS   1630557       Kispert  Out of Bounds - Bad Pass Turnover      1   \n",
       "412  CHI   1631207         Terry                          Lost Ball      3   \n",
       "415  CHI   1631207         Terry                          Traveling      3   \n",
       "919  CHI   1630581        Giddey                           Bad Pass      3   \n",
       "527  PHX   1629006        Okogie                           Bad Pass      2   \n",
       "135  TOR   1629628       Barrett                          Lost Ball      1   \n",
       "240  POR   1641739        Camara                          Lost Ball      2   \n",
       "\n",
       "     clock      gameId actionNumber next_pos_points shot_clock opp_team  \n",
       "583  484.0  0022400020           39               4       14.0      MIN  \n",
       "572  218.0  0022400019          536               3       14.0      GSW  \n",
       "421  130.0  0022400013          670               3       20.0      CLE  \n",
       "840  176.0  0022400028          114               3       12.0      BOS  \n",
       "412  298.0  0022400013          443               3       20.0      CLE  \n",
       "415  176.0  0022400013          476               3       21.0      CLE  \n",
       "919  365.0  0022400030          416               3        7.0      ATL  \n",
       "527  366.0  0022400018          263               3        8.0      OKC  \n",
       "135  406.0  0022400005           70               3       17.0      MIL  \n",
       "240   62.0  0022400008          301               3        7.0      MIN  "
      ]
     },
     "execution_count": 4,
     "metadata": {},
     "output_type": "execute_result"
    }
   ],
   "source": [
    "tov_df.sort_values('next_pos_points', ascending=False).head(10)"
   ]
  }
 ],
 "metadata": {
  "kernelspec": {
   "display_name": "base",
   "language": "python",
   "name": "python3"
  },
  "language_info": {
   "codemirror_mode": {
    "name": "ipython",
    "version": 3
   },
   "file_extension": ".py",
   "mimetype": "text/x-python",
   "name": "python",
   "nbconvert_exporter": "python",
   "pygments_lexer": "ipython3",
   "version": "3.12.7"
  }
 },
 "nbformat": 4,
 "nbformat_minor": 2
}
